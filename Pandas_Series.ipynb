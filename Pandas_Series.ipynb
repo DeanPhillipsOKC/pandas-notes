{
  "nbformat": 4,
  "nbformat_minor": 0,
  "metadata": {
    "colab": {
      "name": "Pandas Series.ipynb",
      "provenance": [],
      "include_colab_link": true
    },
    "kernelspec": {
      "name": "python3",
      "display_name": "Python 3"
    }
  },
  "cells": [
    {
      "cell_type": "markdown",
      "metadata": {
        "id": "view-in-github",
        "colab_type": "text"
      },
      "source": [
        "<a href=\"https://colab.research.google.com/github/DeanPhillipsOKC/pandas-notes/blob/master/Pandas_Series.ipynb\" target=\"_parent\"><img src=\"https://colab.research.google.com/assets/colab-badge.svg\" alt=\"Open In Colab\"/></a>"
      ]
    },
    {
      "cell_type": "markdown",
      "metadata": {
        "id": "CgVtwb8Gl5oe",
        "colab_type": "text"
      },
      "source": [
        "#Pandas Series"
      ]
    },
    {
      "cell_type": "code",
      "metadata": {
        "id": "7DCQ-3s4l0gd",
        "colab_type": "code",
        "colab": {}
      },
      "source": [
        "import numpy as np\n",
        "import pandas as pd"
      ],
      "execution_count": 0,
      "outputs": []
    },
    {
      "cell_type": "markdown",
      "metadata": {
        "id": "H7q3V2NBGQFZ",
        "colab_type": "text"
      },
      "source": [
        "First, lets create a pandas series from a an array.  The resulting data set will generate its own key based on the index of each element"
      ]
    },
    {
      "cell_type": "code",
      "metadata": {
        "id": "F4DUn77Hl87u",
        "colab_type": "code",
        "colab": {
          "base_uri": "https://localhost:8080/",
          "height": 85
        },
        "outputId": "871ec06a-680c-419c-9090-f808e059dfec"
      },
      "source": [
        "pd.Series(data=[10, 20, 30])"
      ],
      "execution_count": 4,
      "outputs": [
        {
          "output_type": "execute_result",
          "data": {
            "text/plain": [
              "0    10\n",
              "1    20\n",
              "2    30\n",
              "dtype: int64"
            ]
          },
          "metadata": {
            "tags": []
          },
          "execution_count": 4
        }
      ]
    },
    {
      "cell_type": "markdown",
      "metadata": {
        "id": "v-J_R6kzGlJR",
        "colab_type": "text"
      },
      "source": [
        "Now, lets also provide some custom indexes using a labels array"
      ]
    },
    {
      "cell_type": "code",
      "metadata": {
        "id": "7K-cFcX7Gerv",
        "colab_type": "code",
        "colab": {
          "base_uri": "https://localhost:8080/",
          "height": 85
        },
        "outputId": "c5ecb0ec-5836-47ee-ca40-abfc57de2105"
      },
      "source": [
        "pd.Series(data=[10, 20, 30], index=['a', 'b', 'c'])"
      ],
      "execution_count": 6,
      "outputs": [
        {
          "output_type": "execute_result",
          "data": {
            "text/plain": [
              "a    10\n",
              "b    20\n",
              "c    30\n",
              "dtype: int64"
            ]
          },
          "metadata": {
            "tags": []
          },
          "execution_count": 6
        }
      ]
    },
    {
      "cell_type": "markdown",
      "metadata": {
        "id": "ZHkiwGfDHOnN",
        "colab_type": "text"
      },
      "source": [
        "We can also use NumPy arrays"
      ]
    },
    {
      "cell_type": "code",
      "metadata": {
        "id": "_EVRFgDVGpff",
        "colab_type": "code",
        "colab": {
          "base_uri": "https://localhost:8080/",
          "height": 85
        },
        "outputId": "a1f84cbe-a7c3-43fc-9f05-e918a85de889"
      },
      "source": [
        "pd.Series(data=np.array([10, 20, 30]), index=np.array(['a', 'b', 'c']))"
      ],
      "execution_count": 7,
      "outputs": [
        {
          "output_type": "execute_result",
          "data": {
            "text/plain": [
              "a    10\n",
              "b    20\n",
              "c    30\n",
              "dtype: int64"
            ]
          },
          "metadata": {
            "tags": []
          },
          "execution_count": 7
        }
      ]
    },
    {
      "cell_type": "markdown",
      "metadata": {
        "id": "-B4hL7cJHqKJ",
        "colab_type": "text"
      },
      "source": [
        "We can also convert a dictionary to a pandas series"
      ]
    },
    {
      "cell_type": "code",
      "metadata": {
        "id": "a6xvwERUHMlH",
        "colab_type": "code",
        "colab": {
          "base_uri": "https://localhost:8080/",
          "height": 85
        },
        "outputId": "79f459f5-f6d9-4e71-ed42-e4ea5da183aa"
      },
      "source": [
        "pd.Series({'a' : 10, 'b' : 20, 'c' : 30})"
      ],
      "execution_count": 10,
      "outputs": [
        {
          "output_type": "execute_result",
          "data": {
            "text/plain": [
              "a    10\n",
              "b    20\n",
              "c    30\n",
              "dtype: int64"
            ]
          },
          "metadata": {
            "tags": []
          },
          "execution_count": 10
        }
      ]
    },
    {
      "cell_type": "markdown",
      "metadata": {
        "id": "VQ48iGp-JRfI",
        "colab_type": "text"
      },
      "source": [
        "We can do math on pandas series.  In this example we add q1 and q2 sales data.  Canada, and Japan are each only in one of the series, so when we add the sales data, those contries will return NaN."
      ]
    },
    {
      "cell_type": "code",
      "metadata": {
        "id": "8IScLIt8HbJP",
        "colab_type": "code",
        "colab": {}
      },
      "source": [
        "salesQ1 = pd.Series([100, 150, 50], ['USA', 'China', 'Canada'])"
      ],
      "execution_count": 0,
      "outputs": []
    },
    {
      "cell_type": "code",
      "metadata": {
        "id": "-7bSxmSNJGs-",
        "colab_type": "code",
        "colab": {}
      },
      "source": [
        "salesQ2 = pd.Series([50, 500, 700], ['USA', 'China', 'Japan'])"
      ],
      "execution_count": 0,
      "outputs": []
    },
    {
      "cell_type": "code",
      "metadata": {
        "id": "tQC15TDNJN-v",
        "colab_type": "code",
        "colab": {
          "base_uri": "https://localhost:8080/",
          "height": 102
        },
        "outputId": "84f2689d-7a33-45e4-9ce9-a4c9c1701af9"
      },
      "source": [
        "salesQ1 + salesQ2"
      ],
      "execution_count": 13,
      "outputs": [
        {
          "output_type": "execute_result",
          "data": {
            "text/plain": [
              "Canada      NaN\n",
              "China     650.0\n",
              "Japan       NaN\n",
              "USA       150.0\n",
              "dtype: float64"
            ]
          },
          "metadata": {
            "tags": []
          },
          "execution_count": 13
        }
      ]
    },
    {
      "cell_type": "code",
      "metadata": {
        "id": "ujULj5eJJQCu",
        "colab_type": "code",
        "colab": {}
      },
      "source": [
        ""
      ],
      "execution_count": 0,
      "outputs": []
    }
  ]
}