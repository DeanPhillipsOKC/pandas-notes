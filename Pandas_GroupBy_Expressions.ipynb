{
  "nbformat": 4,
  "nbformat_minor": 0,
  "metadata": {
    "colab": {
      "name": "Pandas GroupBy Expressions.ipynb",
      "provenance": [],
      "authorship_tag": "ABX9TyM0V6y9eiogwuOLlu0cCePK",
      "include_colab_link": true
    },
    "kernelspec": {
      "name": "python3",
      "display_name": "Python 3"
    }
  },
  "cells": [
    {
      "cell_type": "markdown",
      "metadata": {
        "id": "view-in-github",
        "colab_type": "text"
      },
      "source": [
        "<a href=\"https://colab.research.google.com/github/DeanPhillipsOKC/pandas-notes/blob/master/Pandas_GroupBy_Expressions.ipynb\" target=\"_parent\"><img src=\"https://colab.research.google.com/assets/colab-badge.svg\" alt=\"Open In Colab\"/></a>"
      ]
    },
    {
      "cell_type": "markdown",
      "metadata": {
        "id": "427QWvkTVNED",
        "colab_type": "text"
      },
      "source": [
        "# Pandas GroupBy Expressions"
      ]
    },
    {
      "cell_type": "code",
      "metadata": {
        "id": "zGB_qn-QVIVP",
        "colab_type": "code",
        "colab": {}
      },
      "source": [
        "import numpy as np\n",
        "import pandas as pd\n",
        "from google.colab import files # required to updload the datasource"
      ],
      "execution_count": 0,
      "outputs": []
    },
    {
      "cell_type": "code",
      "metadata": {
        "id": "lJGmwbxsVMxL",
        "colab_type": "code",
        "colab": {
          "resources": {
            "http://localhost:8080/nbextensions/google.colab/files.js": {
              "data": "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",
              "ok": true,
              "headers": [
                [
                  "content-type",
                  "application/javascript"
                ]
              ],
              "status": 200,
              "status_text": ""
            }
          },
          "base_uri": "https://localhost:8080/",
          "height": 111
        },
        "outputId": "497501af-c345-4891-940d-15c74ce1b2a9"
      },
      "source": [
        "files.upload() # Will prompt for the datasource (this is the universities.csv file that came with the course)"
      ],
      "execution_count": 9,
      "outputs": [
        {
          "output_type": "display_data",
          "data": {
            "text/html": [
              "\n",
              "     <input type=\"file\" id=\"files-aadb2074-d4cb-42b6-94e3-cfcf99e3bfaf\" name=\"files[]\" multiple disabled />\n",
              "     <output id=\"result-aadb2074-d4cb-42b6-94e3-cfcf99e3bfaf\">\n",
              "      Upload widget is only available when the cell has been executed in the\n",
              "      current browser session. Please rerun this cell to enable.\n",
              "      </output>\n",
              "      <script src=\"/nbextensions/google.colab/files.js\"></script> "
            ],
            "text/plain": [
              "<IPython.core.display.HTML object>"
            ]
          },
          "metadata": {
            "tags": []
          }
        },
        {
          "output_type": "stream",
          "text": [
            "Saving Universities.csv to Universities (1).csv\n"
          ],
          "name": "stdout"
        },
        {
          "output_type": "execute_result",
          "data": {
            "text/plain": [
              "{'Universities.csv': b'Sector,University,Year,Completions,Geography\\r\\n\"Private for-profit, 2-year\",Pima Medical Institute-Las Vegas,2016,591,Nevada\\r\\n\"Private for-profit, less-than 2-year\",Healthcare Preparatory Institute,2016,28,Nevada\\r\\n\"Private for-profit, less-than 2-year\",Milan Institute-Las Vegas,2016,408,Nevada\\r\\n\"Private for-profit, less-than 2-year\",Utah College of Massage Therapy-Vegas,2016,240,Nevada\\r\\n\"Public, 4-year or above\",Western Nevada College,2016,960,Nevada\\r\\n\"Private for-profit, less-than 2-year\",Advanced Training Institute,2016,372,Nevada\\r\\n\"Public, 4-year or above\",Great Basin College,2016,858,Nevada\\r\\n\"Private for-profit, less-than 2-year\",European Massage Therapy School-Las Vegas,2016,85,Nevada\\r\\n\"Private for-profit, less-than 2-year\",Institute of Professional Careers,2016,24,Nevada\\r\\n\"Public, 4-year or above\",Nevada State College,2016,420,Nevada\\r\\n\"Private for-profit, less-than 2-year\",Milan Institute-Sparks,2016,271,Nevada\\r\\n\"Public, 4-year or above\",University of Nevada-Las Vegas,2016,5367,Nevada\\r\\n\"Private for-profit, less-than 2-year\",Academy of Hair Design-Las Vegas,2016,124,Nevada\\r\\n\"Private for-profit, 2-year\",Northwest Career College,2016,208,Nevada\\r\\n\"Public, 4-year or above\",University of Nevada-Reno,2016,4309,Nevada\\r\\n\"Private for-profit, 2-year\",Le Cordon Bleu College of Culinary Arts-Las Vegas,2016,222,Nevada\\r\\n\"Private not-for-profit, 4-year or above\",Sierra Nevada College,2016,261,Nevada\\r\\n\"Private not-for-profit, 4-year or above\",Wongu University of Oriental Medicine,2016,0,Nevada\\r\\n\"Private for-profit, 2-year\",Carrington College-Reno,2016,165,Nevada\\r\\n\"Private for-profit, 2-year\",Carrington College-Las Vegas,2016,210,Nevada\\r\\n\"Private not-for-profit, 4-year or above\",Touro University Nevada,2016,356,Nevada\\r\\n\"Public, 4-year or above\",College of Southern Nevada,2016,4763,Nevada\\r\\n\"Private not-for-profit, 4-year or above\",Roseman University of Health Sciences,2016,591,Nevada\\r\\n\"Private for-profit, 2-year\",Brightwood College-Las Vegas,2016,581,Nevada\\r\\n\"Private for-profit, 2-year\",Career College of Northern Nevada,2016,299,Nevada\\r\\n\"Private for-profit, 4-year or above\",University of Phoenix-Nevada,2016,423,Nevada\\r\\n\"Private for-profit, 4-year or above\",Chamberlain College of Nursing-Nevada,2016,0,Nevada\\r\\n\"Private for-profit, 4-year or above\",Arizona College-Las Vegas,2016,0,Nevada\\r\\n\"Private for-profit, 2-year\",Aviation Institute of Maintenance-Las Vegas,2016,83,Nevada\\r\\n\"Private for-profit, 2-year\",Paul Mitchell the School-Reno,2016,74,Nevada\\r\\n\"Private for-profit, 2-year\",Paul Mitchell the School-Las Vegas,2016,156,Nevada\\r\\n\"Private for-profit, 4-year or above\",DeVry University-Nevada,2016,99,Nevada\\r\\n\"Private for-profit, 2-year\",International Academy of Style,2016,71,Nevada\\r\\n\"Private for-profit, 4-year or above\",The Art Institute of Las Vegas,2016,135,Nevada\\r\\n\"Private for-profit, 2-year\",Casal Institute of Nevada,2016,109,Nevada\\r\\n\"Private for-profit, 2-year\",Milan Institute of Cosmetology-Reno,2016,83,Nevada\\r\\n\"Private for-profit, 4-year or above\",Sanford-Brown College-Las Vegas,2016,91,Nevada\\r\\n\"Private for-profit, 2-year\",Euphoria Institute of Beauty Arts & Sciences-Green Valley,2016,96,Nevada\\r\\n\"Private for-profit, 2-year\",Euphoria Institute of Beauty Arts & Sciences-Summerlin,2016,187,Nevada\\r\\n\"Public, 2-year\",Truckee Meadows Community College,2016,2431,Nevada\\r\\n\"Private for-profit, 2-year\",Nevada Career Institute,2016,151,Nevada\\r\\n\"Private not-for-profit, 2-year\",Everest College-Henderson,2016,233,Nevada\\r\\n\"Private not-for-profit, 2-year\",Expertise Cosmetology Institute,2016,89,Nevada\\r\\n\"Private for-profit, 2-year\",Pima Medical Institute-Las Vegas,2015,597,Nevada\\r\\n\"Private not-for-profit, 4-year or above\",Roseman University of Health Sciences,2015,517,Nevada\\r\\n\"Private for-profit, less-than 2-year\",Milan Institute-Sparks,2015,320,Nevada\\r\\n\"Public, 4-year or above\",University of Nevada-Las Vegas,2015,5335,Nevada\\r\\n\"Private for-profit, 2-year\",Brightwood College-Las Vegas,2015,721,Nevada\\r\\n\"Private for-profit, less-than 2-year\",Healthcare Preparatory Institute,2015,38,Nevada\\r\\n\"Private for-profit, 4-year or above\",ITT Technical Institute-Las Vegas,2015,197,Nevada\\r\\n\"Private for-profit, 2-year\",Career College of Northern Nevada,2015,317,Nevada\\r\\n\"Private for-profit, 4-year or above\",University of Phoenix-Nevada,2015,600,Nevada\\r\\n\"Private for-profit, less-than 2-year\",Advanced Training Institute,2015,266,Nevada\\r\\n\"Private for-profit, 4-year or above\",Chamberlain College of Nursing-Nevada,2015,0,Nevada\\r\\n\"Private for-profit, less-than 2-year\",Academy of Hair Design-Las Vegas,2015,180,Nevada\\r\\n\"Private for-profit, 4-year or above\",Arizona College-Las Vegas,2015,0,Nevada\\r\\n\"Public, 4-year or above\",Great Basin College,2015,769,Nevada\\r\\n\"Public, 4-year or above\",University of Nevada-Reno,2015,4004,Nevada\\r\\n\"Private for-profit, 2-year\",Aviation Institute of Maintenance-Las Vegas,2015,29,Nevada\\r\\n\"Private for-profit, less-than 2-year\",Milan Institute-Las Vegas,2015,417,Nevada\\r\\n\"Private for-profit, 4-year or above\",ITT Technical Institute-Henderson,2015,127,Nevada\\r\\n\"Private for-profit, 2-year\",Paul Mitchell the School-Reno,2015,83,Nevada\\r\\n\"Private for-profit, 2-year\",Northwest Career College,2015,184,Nevada\\r\\n\"Private for-profit, 4-year or above\",DeVry University-Nevada,2015,108,Nevada\\r\\n\"Public, 4-year or above\",College of Southern Nevada,2015,4630,Nevada\\r\\n\"Private for-profit, 2-year\",Paul Mitchell the School-Las Vegas,2015,120,Nevada\\r\\n\"Private for-profit, 2-year\",Le Cordon Bleu College of Culinary Arts-Las Vegas,2015,138,Nevada\\r\\n\"Private for-profit, 2-year\",International Academy of Style,2015,84,Nevada\\r\\n\"Private for-profit, 4-year or above\",The Art Institute of Las Vegas,2015,185,Nevada\\r\\n\"Private not-for-profit, 4-year or above\",Sierra Nevada College,2015,309,Nevada\\r\\n\"Private for-profit, less-than 2-year\",European Massage Therapy School-Las Vegas,2015,67,Nevada\\r\\n\"Private for-profit, 2-year\",Casal Institute of Nevada,2015,108,Nevada\\r\\n\"Public, 4-year or above\",Western Nevada College,2015,925,Nevada\\r\\n\"Private for-profit, 4-year or above\",Sanford-Brown College-Las Vegas,2015,89,Nevada\\r\\n\"Public, 4-year or above\",Nevada State College,2015,393,Nevada\\r\\n\"Private for-profit, 2-year\",Milan Institute of Cosmetology-Reno,2015,82,Nevada\\r\\n\"Private for-profit, 2-year\",Carrington College-Reno,2015,205,Nevada\\r\\n\"Private for-profit, 2-year\",Euphoria Institute of Beauty Arts & Sciences-Green Valley,2015,78,Nevada\\r\\n\"Public, 2-year\",Truckee Meadows Community College,2015,2355,Nevada\\r\\n\"Private not-for-profit, 4-year or above\",Touro University Nevada,2015,402,Nevada\\r\\n\"Private for-profit, 2-year\",Euphoria Institute of Beauty Arts & Sciences-Summerlin,2015,162,Nevada\\r\\n\"Private for-profit, less-than 2-year\",Institute of Professional Careers,2015,25,Nevada\\r\\n\"Private for-profit, 2-year\",Nevada Career Institute,2015,169,Nevada\\r\\n\"Private not-for-profit, 2-year\",Everest College-Henderson,2015,357,Nevada\\r\\n\"Private for-profit, 2-year\",Carrington College-Las Vegas,2015,203,Nevada\\r\\n\"Private for-profit, less-than 2-year\",Utah College of Massage Therapy-Vegas,2015,316,Nevada\\r\\n\"Private not-for-profit, 2-year\",Expertise Cosmetology Institute,2015,68,Nevada\\r\\n\"Private not-for-profit, 4-year or above\",Roseman University of Health Sciences,2014,418,Nevada\\r\\n\"Private not-for-profit, 2-year\",Expertise Cosmetology Institute,2014,75,Nevada\\r\\n\"Public, 4-year or above\",College of Southern Nevada,2014,4608,Nevada\\r\\n\"Private for-profit, less-than 2-year\",Healthcare Preparatory Institute,2014,8,Nevada\\r\\n\"Private for-profit, less-than 2-year\",Milan Institute-Las Vegas,2014,224,Nevada\\r\\n\"Private for-profit, 2-year\",Nevada Career Institute,2014,130,Nevada\\r\\n\"Private not-for-profit, 2-year\",Everest College-Henderson,2014,374,Nevada\\r\\n\"Public, 4-year or above\",Western Nevada College,2014,842,Nevada\\r\\n\"Private for-profit, less-than 2-year\",Utah College of Massage Therapy-Vegas,2014,290,Nevada\\r\\n\"Public, 4-year or above\",Great Basin College,2014,704,Nevada\\r\\n\"Private for-profit, 2-year\",Euphoria Institute of Beauty Arts & Sciences-Summerlin,2014,82,Nevada\\r\\n\"Private for-profit, less-than 2-year\",Advanced Training Institute,2014,147,Nevada\\r\\n\"Public, 2-year\",Truckee Meadows Community College,2014,2286,Nevada\\r\\n\"Private for-profit, less-than 2-year\",European Massage Therapy School-Las Vegas,2014,83,Nevada\\r\\n\"Public, 4-year or above\",Nevada State College,2014,365,Nevada\\r\\n\"Private for-profit, 2-year\",Euphoria Institute of Beauty Arts & Sciences-Green Valley,2014,104,Nevada\\r\\n\"Private for-profit, less-than 2-year\",Institute of Professional Careers,2014,10,Nevada\\r\\n\"Public, 4-year or above\",University of Nevada-Las Vegas,2014,5093,Nevada\\r\\n\"Private for-profit, less-than 2-year\",Milan Institute-Sparks,2014,310,Nevada\\r\\n\"Private for-profit, less-than 2-year\",Academy of Hair Design-Las Vegas,2014,256,Nevada\\r\\n\"Private for-profit, 2-year\",Milan Institute of Cosmetology-Reno,2014,106,Nevada\\r\\n\"Public, 4-year or above\",University of Nevada-Reno,2014,3550,Nevada\\r\\n\"Private for-profit, 4-year or above\",Sanford-Brown College-Las Vegas,2014,81,Nevada\\r\\n\"Private for-profit, 2-year\",Northwest Career College,2014,164,Nevada\\r\\n\"Private not-for-profit, 4-year or above\",Sierra Nevada College,2014,275,Nevada\\r\\n\"Private for-profit, 2-year\",Casal Institute of Nevada,2014,94,Nevada\\r\\n\"Private for-profit, 2-year\",Le Cordon Bleu College of Culinary Arts-Las Vegas,2014,277,Nevada\\r\\n\"Private for-profit, 2-year\",Carrington College-Reno,2014,157,Nevada\\r\\n\"Private not-for-profit, 4-year or above\",Touro University Nevada,2014,349,Nevada\\r\\n\"Private for-profit, 2-year\",Carrington College-Las Vegas,2014,113,Nevada\\r\\n\"Private for-profit, 2-year\",International Academy of Style,2014,69,Nevada\\r\\n\"Private for-profit, 4-year or above\",The Art Institute of Las Vegas,2014,189,Nevada\\r\\n\"Private for-profit, 2-year\",Pima Medical Institute-Las Vegas,2014,567,Nevada\\r\\n\"Private for-profit, 2-year\",Brightwood College-Las Vegas,2014,624,Nevada\\r\\n\"Private for-profit, 4-year or above\",ITT Technical Institute-Las Vegas,2014,218,Nevada\\r\\n\"Private for-profit, 2-year\",Paul Mitchell the School-Las Vegas,2014,138,Nevada\\r\\n\"Private for-profit, 4-year or above\",University of Phoenix-Nevada,2014,708,Nevada\\r\\n\"Private for-profit, 4-year or above\",DeVry University-Nevada,2014,127,Nevada\\r\\n\"Private for-profit, 2-year\",Career College of Northern Nevada,2014,239,Nevada\\r\\n\"Private for-profit, 2-year\",Aviation Institute of Maintenance-Las Vegas,2014,0,Nevada\\r\\n\"Private for-profit, 2-year\",Paul Mitchell the School-Reno,2014,93,Nevada\\r\\n\"Private for-profit, 4-year or above\",ITT Technical Institute-Henderson,2014,183,Nevada\\r\\n\"Private for-profit, 2-year\",Aviation Institute of Maintenance-Las Vegas,2013,0,Nevada\\r\\n\"Private for-profit, 4-year or above\",DeVry University-Nevada,2013,97,Nevada\\r\\n\"Private for-profit, 4-year or above\",ITT Technical Institute-Henderson,2013,217,Nevada\\r\\n\"Private for-profit, 2-year\",Career College of Northern Nevada,2013,275,Nevada\\r\\n\"Private for-profit, 2-year\",Paul Mitchell the School-Las Vegas,2013,128,Nevada\\r\\n\"Private for-profit, 2-year\",Brightwood College-Las Vegas,2013,575,Nevada\\r\\n\"Private for-profit, 4-year or above\",ITT Technical Institute-Las Vegas,2013,168,Nevada\\r\\n\"Private for-profit, 2-year\",Pima Medical Institute-Las Vegas,2013,588,Nevada\\r\\n\"Private for-profit, 4-year or above\",The Art Institute of Las Vegas,2013,194,Nevada\\r\\n\"Private not-for-profit, 2-year\",Expertise Cosmetology Institute,2013,55,Nevada\\r\\n\"Private not-for-profit, 4-year or above\",Roseman University of Health Sciences,2013,412,Nevada\\r\\n\"Private for-profit, 2-year\",Carrington College-Las Vegas,2013,77,Nevada\\r\\n\"Private for-profit, 2-year\",International Academy of Style,2013,55,Nevada\\r\\n\"Private for-profit, 2-year\",Carrington College-Reno,2013,135,Nevada\\r\\n\"Private not-for-profit, 4-year or above\",Touro University Nevada,2013,372,Nevada\\r\\n\"Private for-profit, 2-year\",Le Cordon Bleu College of Culinary Arts-Las Vegas,2013,438,Nevada\\r\\n\"Private for-profit, 4-year or above\",Sanford-Brown College-Las Vegas,2013,99,Nevada\\r\\n\"Private for-profit, 2-year\",Casal Institute of Nevada,2013,65,Nevada\\r\\n\"Private not-for-profit, 4-year or above\",Sierra Nevada College,2013,232,Nevada\\r\\n\"Private for-profit, 2-year\",Northwest Career College,2013,116,Nevada\\r\\n\"Private for-profit, 2-year\",Paul Mitchell the School-Reno,2013,91,Nevada\\r\\n\"Private for-profit, less-than 2-year\",Academy of Hair Design-Las Vegas,2013,84,Nevada\\r\\n\"Private for-profit, 2-year\",Milan Institute of Cosmetology-Reno,2013,111,Nevada\\r\\n\"Public, 4-year or above\",University of Nevada-Reno,2013,3551,Nevada\\r\\n\"Private for-profit, less-than 2-year\",Milan Institute-Sparks,2013,293,Nevada\\r\\n\"Public, 2-year\",Truckee Meadows Community College,2013,1633,Nevada\\r\\n\"Public, 4-year or above\",University of Nevada-Las Vegas,2013,5278,Nevada\\r\\n\"Private for-profit, less-than 2-year\",Institute of Professional Careers,2013,8,Nevada\\r\\n\"Public, 4-year or above\",College of Southern Nevada,2013,2741,Nevada\\r\\n\"Private for-profit, 2-year\",Euphoria Institute of Beauty Arts & Sciences-Green Valley,2013,105,Nevada\\r\\n\"Private for-profit, less-than 2-year\",European Massage Therapy School-Las Vegas,2013,63,Nevada\\r\\n\"Public, 4-year or above\",Nevada State College,2013,303,Nevada\\r\\n\"Private for-profit, less-than 2-year\",Advanced Training Institute,2013,157,Nevada\\r\\n\"Private for-profit, 2-year\",Euphoria Institute of Beauty Arts & Sciences-Summerlin,2013,110,Nevada\\r\\n\"Public, 4-year or above\",Great Basin College,2013,422,Nevada\\r\\n\"Private for-profit, less-than 2-year\",Utah College of Massage Therapy-Vegas,2013,372,Nevada\\r\\n\"Private not-for-profit, 2-year\",Everest College-Henderson,2013,416,Nevada\\r\\n\"Private for-profit, less-than 2-year\",Milan Institute-Las Vegas,2013,304,Nevada\\r\\n\"Private for-profit, 2-year\",Nevada Career Institute,2013,184,Nevada\\r\\n\"Public, 4-year or above\",Western Nevada College,2013,522,Nevada\\r\\n\"Private for-profit, less-than 2-year\",Academy of Hair Design-Las Vegas,2012,110,Nevada\\r\\n\"Private for-profit, 2-year\",Career College of Northern Nevada,2012,333,Nevada\\r\\n\"Private for-profit, 2-year\",Paul Mitchell the School-Las Vegas,2012,78,Nevada\\r\\n\"Private not-for-profit, 4-year or above\",Roseman University of Health Sciences,2012,388,Nevada\\r\\n\"Public, 4-year or above\",University of Nevada-Reno,2012,3453,Nevada\\r\\n\"Private for-profit, less-than 2-year\",Milan Institute-Sparks,2012,248,Nevada\\r\\n\"Private for-profit, 2-year\",International Academy of Style,2012,75,Nevada\\r\\n\"Private for-profit, 2-year\",Milan Institute of Cosmetology-Reno,2012,122,Nevada\\r\\n\"Private for-profit, 2-year\",Carrington College-Reno,2012,145,Nevada\\r\\n\"Public, 4-year or above\",College of Southern Nevada,2012,2348,Nevada\\r\\n\"Private for-profit, less-than 2-year\",Institute of Professional Careers,2012,13,Nevada\\r\\n\"Private for-profit, 4-year or above\",Sanford-Brown College-Las Vegas,2012,51,Nevada\\r\\n\"Private for-profit, 4-year or above\",ITT Technical Institute-Las Vegas,2012,118,Nevada\\r\\n\"Public, 4-year or above\",University of Nevada-Las Vegas,2012,5388,Nevada\\r\\n\"Private not-for-profit, 4-year or above\",Touro University Nevada,2012,430,Nevada\\r\\n\"Private for-profit, less-than 2-year\",European Massage Therapy School-Las Vegas,2012,21,Nevada\\r\\n\"Private for-profit, 2-year\",Le Cordon Bleu College of Culinary Arts-Las Vegas,2012,368,Nevada\\r\\n\"Private for-profit, 2-year\",Euphoria Institute of Beauty Arts & Sciences-Green Valley,2012,153,Nevada\\r\\n\"Private for-profit, 2-year\",Pima Medical Institute-Las Vegas,2012,593,Nevada\\r\\n\"Public, 4-year or above\",Nevada State College,2012,272,Nevada\\r\\n\"Private for-profit, less-than 2-year\",Advanced Training Institute,2012,218,Nevada\\r\\n\"Private for-profit, 2-year\",Paul Mitchell the School-Reno,2012,78,Nevada\\r\\n\"Private not-for-profit, 2-year\",Everest College-Henderson,2012,536,Nevada\\r\\n\"Private for-profit, 4-year or above\",The Art Institute of Las Vegas,2012,200,Nevada\\r\\n\"Private for-profit, 4-year or above\",ITT Technical Institute-Henderson,2012,263,Nevada\\r\\n\"Private for-profit, less-than 2-year\",Utah College of Massage Therapy-Vegas,2012,392,Nevada\\r\\n\"Private for-profit, 2-year\",Northwest Career College,2012,138,Nevada\\r\\n\"Private for-profit, 2-year\",Euphoria Institute of Beauty Arts & Sciences-Summerlin,2012,113,Nevada\\r\\n\"Public, 4-year or above\",Great Basin College,2012,452,Nevada\\r\\n\"Private for-profit, 2-year\",Brightwood College-Las Vegas,2012,568,Nevada\\r\\n\"Private for-profit, less-than 2-year\",Milan Institute-Las Vegas,2012,325,Nevada\\r\\n\"Private for-profit, 2-year\",Casal Institute of Nevada,2012,87,Nevada\\r\\n\"Private not-for-profit, 4-year or above\",Sierra Nevada College,2012,241,Nevada\\r\\n\"Private for-profit, 2-year\",Carrington College-Las Vegas,2012,120,Nevada\\r\\n\"Public, 4-year or above\",Western Nevada College,2012,495,Nevada\\r\\n\"Private for-profit, 2-year\",Nevada Career Institute,2012,101,Nevada\\r\\n\"Private not-for-profit, 2-year\",Expertise Cosmetology Institute,2012,129,Nevada\\r\\n\"Public, 2-year\",Truckee Meadows Community College,2012,1170,Nevada\\r\\n'}"
            ]
          },
          "metadata": {
            "tags": []
          },
          "execution_count": 9
        }
      ]
    },
    {
      "cell_type": "markdown",
      "metadata": {
        "id": "YphUsNmDdzoy",
        "colab_type": "text"
      },
      "source": [
        "## Read the CSV data source as a Pandas DataFrame"
      ]
    },
    {
      "cell_type": "code",
      "metadata": {
        "id": "bmUFkUcpdLvW",
        "colab_type": "code",
        "colab": {}
      },
      "source": [
        "df = pd.read_csv('Universities.csv')"
      ],
      "execution_count": 0,
      "outputs": []
    },
    {
      "cell_type": "code",
      "metadata": {
        "id": "0QsSXwq4dcGD",
        "colab_type": "code",
        "colab": {
          "base_uri": "https://localhost:8080/",
          "height": 419
        },
        "outputId": "edaafe31-1cd6-4038-9985-a40732ae311a"
      },
      "source": [
        "df"
      ],
      "execution_count": 10,
      "outputs": [
        {
          "output_type": "execute_result",
          "data": {
            "text/html": [
              "<div>\n",
              "<style scoped>\n",
              "    .dataframe tbody tr th:only-of-type {\n",
              "        vertical-align: middle;\n",
              "    }\n",
              "\n",
              "    .dataframe tbody tr th {\n",
              "        vertical-align: top;\n",
              "    }\n",
              "\n",
              "    .dataframe thead th {\n",
              "        text-align: right;\n",
              "    }\n",
              "</style>\n",
              "<table border=\"1\" class=\"dataframe\">\n",
              "  <thead>\n",
              "    <tr style=\"text-align: right;\">\n",
              "      <th></th>\n",
              "      <th>Sector</th>\n",
              "      <th>University</th>\n",
              "      <th>Year</th>\n",
              "      <th>Completions</th>\n",
              "      <th>Geography</th>\n",
              "    </tr>\n",
              "  </thead>\n",
              "  <tbody>\n",
              "    <tr>\n",
              "      <th>0</th>\n",
              "      <td>Private for-profit, 2-year</td>\n",
              "      <td>Pima Medical Institute-Las Vegas</td>\n",
              "      <td>2016</td>\n",
              "      <td>591</td>\n",
              "      <td>Nevada</td>\n",
              "    </tr>\n",
              "    <tr>\n",
              "      <th>1</th>\n",
              "      <td>Private for-profit, less-than 2-year</td>\n",
              "      <td>Healthcare Preparatory Institute</td>\n",
              "      <td>2016</td>\n",
              "      <td>28</td>\n",
              "      <td>Nevada</td>\n",
              "    </tr>\n",
              "    <tr>\n",
              "      <th>2</th>\n",
              "      <td>Private for-profit, less-than 2-year</td>\n",
              "      <td>Milan Institute-Las Vegas</td>\n",
              "      <td>2016</td>\n",
              "      <td>408</td>\n",
              "      <td>Nevada</td>\n",
              "    </tr>\n",
              "    <tr>\n",
              "      <th>3</th>\n",
              "      <td>Private for-profit, less-than 2-year</td>\n",
              "      <td>Utah College of Massage Therapy-Vegas</td>\n",
              "      <td>2016</td>\n",
              "      <td>240</td>\n",
              "      <td>Nevada</td>\n",
              "    </tr>\n",
              "    <tr>\n",
              "      <th>4</th>\n",
              "      <td>Public, 4-year or above</td>\n",
              "      <td>Western Nevada College</td>\n",
              "      <td>2016</td>\n",
              "      <td>960</td>\n",
              "      <td>Nevada</td>\n",
              "    </tr>\n",
              "    <tr>\n",
              "      <th>...</th>\n",
              "      <td>...</td>\n",
              "      <td>...</td>\n",
              "      <td>...</td>\n",
              "      <td>...</td>\n",
              "      <td>...</td>\n",
              "    </tr>\n",
              "    <tr>\n",
              "      <th>202</th>\n",
              "      <td>Private for-profit, 2-year</td>\n",
              "      <td>Carrington College-Las Vegas</td>\n",
              "      <td>2012</td>\n",
              "      <td>120</td>\n",
              "      <td>Nevada</td>\n",
              "    </tr>\n",
              "    <tr>\n",
              "      <th>203</th>\n",
              "      <td>Public, 4-year or above</td>\n",
              "      <td>Western Nevada College</td>\n",
              "      <td>2012</td>\n",
              "      <td>495</td>\n",
              "      <td>Nevada</td>\n",
              "    </tr>\n",
              "    <tr>\n",
              "      <th>204</th>\n",
              "      <td>Private for-profit, 2-year</td>\n",
              "      <td>Nevada Career Institute</td>\n",
              "      <td>2012</td>\n",
              "      <td>101</td>\n",
              "      <td>Nevada</td>\n",
              "    </tr>\n",
              "    <tr>\n",
              "      <th>205</th>\n",
              "      <td>Private not-for-profit, 2-year</td>\n",
              "      <td>Expertise Cosmetology Institute</td>\n",
              "      <td>2012</td>\n",
              "      <td>129</td>\n",
              "      <td>Nevada</td>\n",
              "    </tr>\n",
              "    <tr>\n",
              "      <th>206</th>\n",
              "      <td>Public, 2-year</td>\n",
              "      <td>Truckee Meadows Community College</td>\n",
              "      <td>2012</td>\n",
              "      <td>1170</td>\n",
              "      <td>Nevada</td>\n",
              "    </tr>\n",
              "  </tbody>\n",
              "</table>\n",
              "<p>207 rows × 5 columns</p>\n",
              "</div>"
            ],
            "text/plain": [
              "                                   Sector  ... Geography\n",
              "0              Private for-profit, 2-year  ...    Nevada\n",
              "1    Private for-profit, less-than 2-year  ...    Nevada\n",
              "2    Private for-profit, less-than 2-year  ...    Nevada\n",
              "3    Private for-profit, less-than 2-year  ...    Nevada\n",
              "4                 Public, 4-year or above  ...    Nevada\n",
              "..                                    ...  ...       ...\n",
              "202            Private for-profit, 2-year  ...    Nevada\n",
              "203               Public, 4-year or above  ...    Nevada\n",
              "204            Private for-profit, 2-year  ...    Nevada\n",
              "205        Private not-for-profit, 2-year  ...    Nevada\n",
              "206                        Public, 2-year  ...    Nevada\n",
              "\n",
              "[207 rows x 5 columns]"
            ]
          },
          "metadata": {
            "tags": []
          },
          "execution_count": 10
        }
      ]
    },
    {
      "cell_type": "code",
      "metadata": {
        "id": "vwR2fTbmddTb",
        "colab_type": "code",
        "colab": {
          "base_uri": "https://localhost:8080/",
          "height": 204
        },
        "outputId": "0e5d02e1-e968-4d47-8255-06a61b1b6c29"
      },
      "source": [
        "df.head()"
      ],
      "execution_count": 11,
      "outputs": [
        {
          "output_type": "execute_result",
          "data": {
            "text/html": [
              "<div>\n",
              "<style scoped>\n",
              "    .dataframe tbody tr th:only-of-type {\n",
              "        vertical-align: middle;\n",
              "    }\n",
              "\n",
              "    .dataframe tbody tr th {\n",
              "        vertical-align: top;\n",
              "    }\n",
              "\n",
              "    .dataframe thead th {\n",
              "        text-align: right;\n",
              "    }\n",
              "</style>\n",
              "<table border=\"1\" class=\"dataframe\">\n",
              "  <thead>\n",
              "    <tr style=\"text-align: right;\">\n",
              "      <th></th>\n",
              "      <th>Sector</th>\n",
              "      <th>University</th>\n",
              "      <th>Year</th>\n",
              "      <th>Completions</th>\n",
              "      <th>Geography</th>\n",
              "    </tr>\n",
              "  </thead>\n",
              "  <tbody>\n",
              "    <tr>\n",
              "      <th>0</th>\n",
              "      <td>Private for-profit, 2-year</td>\n",
              "      <td>Pima Medical Institute-Las Vegas</td>\n",
              "      <td>2016</td>\n",
              "      <td>591</td>\n",
              "      <td>Nevada</td>\n",
              "    </tr>\n",
              "    <tr>\n",
              "      <th>1</th>\n",
              "      <td>Private for-profit, less-than 2-year</td>\n",
              "      <td>Healthcare Preparatory Institute</td>\n",
              "      <td>2016</td>\n",
              "      <td>28</td>\n",
              "      <td>Nevada</td>\n",
              "    </tr>\n",
              "    <tr>\n",
              "      <th>2</th>\n",
              "      <td>Private for-profit, less-than 2-year</td>\n",
              "      <td>Milan Institute-Las Vegas</td>\n",
              "      <td>2016</td>\n",
              "      <td>408</td>\n",
              "      <td>Nevada</td>\n",
              "    </tr>\n",
              "    <tr>\n",
              "      <th>3</th>\n",
              "      <td>Private for-profit, less-than 2-year</td>\n",
              "      <td>Utah College of Massage Therapy-Vegas</td>\n",
              "      <td>2016</td>\n",
              "      <td>240</td>\n",
              "      <td>Nevada</td>\n",
              "    </tr>\n",
              "    <tr>\n",
              "      <th>4</th>\n",
              "      <td>Public, 4-year or above</td>\n",
              "      <td>Western Nevada College</td>\n",
              "      <td>2016</td>\n",
              "      <td>960</td>\n",
              "      <td>Nevada</td>\n",
              "    </tr>\n",
              "  </tbody>\n",
              "</table>\n",
              "</div>"
            ],
            "text/plain": [
              "                                 Sector  ... Geography\n",
              "0            Private for-profit, 2-year  ...    Nevada\n",
              "1  Private for-profit, less-than 2-year  ...    Nevada\n",
              "2  Private for-profit, less-than 2-year  ...    Nevada\n",
              "3  Private for-profit, less-than 2-year  ...    Nevada\n",
              "4               Public, 4-year or above  ...    Nevada\n",
              "\n",
              "[5 rows x 5 columns]"
            ]
          },
          "metadata": {
            "tags": []
          },
          "execution_count": 11
        }
      ]
    },
    {
      "cell_type": "markdown",
      "metadata": {
        "id": "3NZNzJHoeiSx",
        "colab_type": "text"
      },
      "source": [
        "## Using aggregating functions on categories"
      ]
    },
    {
      "cell_type": "markdown",
      "metadata": {
        "id": "wyzrjKKeepy9",
        "colab_type": "text"
      },
      "source": [
        "The completions column is the only one to show up in these examples because it's the only column that would make sense in the context of a numerical statistics function"
      ]
    },
    {
      "cell_type": "code",
      "metadata": {
        "id": "CJdJ7pFZd5ki",
        "colab_type": "code",
        "colab": {
          "base_uri": "https://localhost:8080/",
          "height": 235
        },
        "outputId": "0cad7aa9-d8c3-4b0d-dffb-c03f244cabc6"
      },
      "source": [
        "df.groupby('Year').sum()"
      ],
      "execution_count": 12,
      "outputs": [
        {
          "output_type": "execute_result",
          "data": {
            "text/html": [
              "<div>\n",
              "<style scoped>\n",
              "    .dataframe tbody tr th:only-of-type {\n",
              "        vertical-align: middle;\n",
              "    }\n",
              "\n",
              "    .dataframe tbody tr th {\n",
              "        vertical-align: top;\n",
              "    }\n",
              "\n",
              "    .dataframe thead th {\n",
              "        text-align: right;\n",
              "    }\n",
              "</style>\n",
              "<table border=\"1\" class=\"dataframe\">\n",
              "  <thead>\n",
              "    <tr style=\"text-align: right;\">\n",
              "      <th></th>\n",
              "      <th>Completions</th>\n",
              "    </tr>\n",
              "    <tr>\n",
              "      <th>Year</th>\n",
              "      <th></th>\n",
              "    </tr>\n",
              "  </thead>\n",
              "  <tbody>\n",
              "    <tr>\n",
              "      <th>2012</th>\n",
              "      <td>20333</td>\n",
              "    </tr>\n",
              "    <tr>\n",
              "      <th>2013</th>\n",
              "      <td>21046</td>\n",
              "    </tr>\n",
              "    <tr>\n",
              "      <th>2014</th>\n",
              "      <td>24730</td>\n",
              "    </tr>\n",
              "    <tr>\n",
              "      <th>2015</th>\n",
              "      <td>26279</td>\n",
              "    </tr>\n",
              "    <tr>\n",
              "      <th>2016</th>\n",
              "      <td>26224</td>\n",
              "    </tr>\n",
              "  </tbody>\n",
              "</table>\n",
              "</div>"
            ],
            "text/plain": [
              "      Completions\n",
              "Year             \n",
              "2012        20333\n",
              "2013        21046\n",
              "2014        24730\n",
              "2015        26279\n",
              "2016        26224"
            ]
          },
          "metadata": {
            "tags": []
          },
          "execution_count": 12
        }
      ]
    },
    {
      "cell_type": "code",
      "metadata": {
        "id": "cZQKr6v6eS8T",
        "colab_type": "code",
        "colab": {
          "base_uri": "https://localhost:8080/",
          "height": 235
        },
        "outputId": "a3d1e00d-21a5-4bf7-aff3-4bb395959075"
      },
      "source": [
        "df.groupby('Year').mean()"
      ],
      "execution_count": 13,
      "outputs": [
        {
          "output_type": "execute_result",
          "data": {
            "text/html": [
              "<div>\n",
              "<style scoped>\n",
              "    .dataframe tbody tr th:only-of-type {\n",
              "        vertical-align: middle;\n",
              "    }\n",
              "\n",
              "    .dataframe tbody tr th {\n",
              "        vertical-align: top;\n",
              "    }\n",
              "\n",
              "    .dataframe thead th {\n",
              "        text-align: right;\n",
              "    }\n",
              "</style>\n",
              "<table border=\"1\" class=\"dataframe\">\n",
              "  <thead>\n",
              "    <tr style=\"text-align: right;\">\n",
              "      <th></th>\n",
              "      <th>Completions</th>\n",
              "    </tr>\n",
              "    <tr>\n",
              "      <th>Year</th>\n",
              "      <th></th>\n",
              "    </tr>\n",
              "  </thead>\n",
              "  <tbody>\n",
              "    <tr>\n",
              "      <th>2012</th>\n",
              "      <td>535.078947</td>\n",
              "    </tr>\n",
              "    <tr>\n",
              "      <th>2013</th>\n",
              "      <td>526.150000</td>\n",
              "    </tr>\n",
              "    <tr>\n",
              "      <th>2014</th>\n",
              "      <td>588.809524</td>\n",
              "    </tr>\n",
              "    <tr>\n",
              "      <th>2015</th>\n",
              "      <td>597.250000</td>\n",
              "    </tr>\n",
              "    <tr>\n",
              "      <th>2016</th>\n",
              "      <td>609.860465</td>\n",
              "    </tr>\n",
              "  </tbody>\n",
              "</table>\n",
              "</div>"
            ],
            "text/plain": [
              "      Completions\n",
              "Year             \n",
              "2012   535.078947\n",
              "2013   526.150000\n",
              "2014   588.809524\n",
              "2015   597.250000\n",
              "2016   609.860465"
            ]
          },
          "metadata": {
            "tags": []
          },
          "execution_count": 13
        }
      ]
    },
    {
      "cell_type": "markdown",
      "metadata": {
        "id": "Ui1sLtcFfbly",
        "colab_type": "text"
      },
      "source": [
        "Can change the sort order of the index column by setting the ascending flag in sort_index"
      ]
    },
    {
      "cell_type": "code",
      "metadata": {
        "id": "Ni7T4P3CeWPj",
        "colab_type": "code",
        "colab": {
          "base_uri": "https://localhost:8080/",
          "height": 235
        },
        "outputId": "f69717d7-fc42-40fe-8489-14e07b6c7d21"
      },
      "source": [
        "df.groupby('Year').sum().sort_index(ascending=False)"
      ],
      "execution_count": 18,
      "outputs": [
        {
          "output_type": "execute_result",
          "data": {
            "text/html": [
              "<div>\n",
              "<style scoped>\n",
              "    .dataframe tbody tr th:only-of-type {\n",
              "        vertical-align: middle;\n",
              "    }\n",
              "\n",
              "    .dataframe tbody tr th {\n",
              "        vertical-align: top;\n",
              "    }\n",
              "\n",
              "    .dataframe thead th {\n",
              "        text-align: right;\n",
              "    }\n",
              "</style>\n",
              "<table border=\"1\" class=\"dataframe\">\n",
              "  <thead>\n",
              "    <tr style=\"text-align: right;\">\n",
              "      <th></th>\n",
              "      <th>Completions</th>\n",
              "    </tr>\n",
              "    <tr>\n",
              "      <th>Year</th>\n",
              "      <th></th>\n",
              "    </tr>\n",
              "  </thead>\n",
              "  <tbody>\n",
              "    <tr>\n",
              "      <th>2016</th>\n",
              "      <td>26224</td>\n",
              "    </tr>\n",
              "    <tr>\n",
              "      <th>2015</th>\n",
              "      <td>26279</td>\n",
              "    </tr>\n",
              "    <tr>\n",
              "      <th>2014</th>\n",
              "      <td>24730</td>\n",
              "    </tr>\n",
              "    <tr>\n",
              "      <th>2013</th>\n",
              "      <td>21046</td>\n",
              "    </tr>\n",
              "    <tr>\n",
              "      <th>2012</th>\n",
              "      <td>20333</td>\n",
              "    </tr>\n",
              "  </tbody>\n",
              "</table>\n",
              "</div>"
            ],
            "text/plain": [
              "      Completions\n",
              "Year             \n",
              "2016        26224\n",
              "2015        26279\n",
              "2014        24730\n",
              "2013        21046\n",
              "2012        20333"
            ]
          },
          "metadata": {
            "tags": []
          },
          "execution_count": 18
        }
      ]
    },
    {
      "cell_type": "markdown",
      "metadata": {
        "id": "vh1o0GuDf1Em",
        "colab_type": "text"
      },
      "source": [
        "## Grouping by multiple categories"
      ]
    },
    {
      "cell_type": "markdown",
      "metadata": {
        "id": "Yl60OjnRf5k6",
        "colab_type": "text"
      },
      "source": [
        "Notice in the example below that we still have only one data column (completions), but now have a multi tiered index (year and sector)"
      ]
    },
    {
      "cell_type": "code",
      "metadata": {
        "id": "AMPiTmfRe_uz",
        "colab_type": "code",
        "colab": {
          "base_uri": "https://localhost:8080/",
          "height": 1000
        },
        "outputId": "8a668512-ef67-46ed-eeff-178db8d1c412"
      },
      "source": [
        "df.groupby(['Year', 'Sector']).sum()"
      ],
      "execution_count": 19,
      "outputs": [
        {
          "output_type": "execute_result",
          "data": {
            "text/html": [
              "<div>\n",
              "<style scoped>\n",
              "    .dataframe tbody tr th:only-of-type {\n",
              "        vertical-align: middle;\n",
              "    }\n",
              "\n",
              "    .dataframe tbody tr th {\n",
              "        vertical-align: top;\n",
              "    }\n",
              "\n",
              "    .dataframe thead th {\n",
              "        text-align: right;\n",
              "    }\n",
              "</style>\n",
              "<table border=\"1\" class=\"dataframe\">\n",
              "  <thead>\n",
              "    <tr style=\"text-align: right;\">\n",
              "      <th></th>\n",
              "      <th></th>\n",
              "      <th>Completions</th>\n",
              "    </tr>\n",
              "    <tr>\n",
              "      <th>Year</th>\n",
              "      <th>Sector</th>\n",
              "      <th></th>\n",
              "    </tr>\n",
              "  </thead>\n",
              "  <tbody>\n",
              "    <tr>\n",
              "      <th rowspan=\"7\" valign=\"top\">2012</th>\n",
              "      <th>Private for-profit, 2-year</th>\n",
              "      <td>3072</td>\n",
              "    </tr>\n",
              "    <tr>\n",
              "      <th>Private for-profit, 4-year or above</th>\n",
              "      <td>632</td>\n",
              "    </tr>\n",
              "    <tr>\n",
              "      <th>Private for-profit, less-than 2-year</th>\n",
              "      <td>1327</td>\n",
              "    </tr>\n",
              "    <tr>\n",
              "      <th>Private not-for-profit, 2-year</th>\n",
              "      <td>665</td>\n",
              "    </tr>\n",
              "    <tr>\n",
              "      <th>Private not-for-profit, 4-year or above</th>\n",
              "      <td>1059</td>\n",
              "    </tr>\n",
              "    <tr>\n",
              "      <th>Public, 2-year</th>\n",
              "      <td>1170</td>\n",
              "    </tr>\n",
              "    <tr>\n",
              "      <th>Public, 4-year or above</th>\n",
              "      <td>12408</td>\n",
              "    </tr>\n",
              "    <tr>\n",
              "      <th rowspan=\"7\" valign=\"top\">2013</th>\n",
              "      <th>Private for-profit, 2-year</th>\n",
              "      <td>3053</td>\n",
              "    </tr>\n",
              "    <tr>\n",
              "      <th>Private for-profit, 4-year or above</th>\n",
              "      <td>775</td>\n",
              "    </tr>\n",
              "    <tr>\n",
              "      <th>Private for-profit, less-than 2-year</th>\n",
              "      <td>1281</td>\n",
              "    </tr>\n",
              "    <tr>\n",
              "      <th>Private not-for-profit, 2-year</th>\n",
              "      <td>471</td>\n",
              "    </tr>\n",
              "    <tr>\n",
              "      <th>Private not-for-profit, 4-year or above</th>\n",
              "      <td>1016</td>\n",
              "    </tr>\n",
              "    <tr>\n",
              "      <th>Public, 2-year</th>\n",
              "      <td>1633</td>\n",
              "    </tr>\n",
              "    <tr>\n",
              "      <th>Public, 4-year or above</th>\n",
              "      <td>12817</td>\n",
              "    </tr>\n",
              "    <tr>\n",
              "      <th rowspan=\"7\" valign=\"top\">2014</th>\n",
              "      <th>Private for-profit, 2-year</th>\n",
              "      <td>2957</td>\n",
              "    </tr>\n",
              "    <tr>\n",
              "      <th>Private for-profit, 4-year or above</th>\n",
              "      <td>1506</td>\n",
              "    </tr>\n",
              "    <tr>\n",
              "      <th>Private for-profit, less-than 2-year</th>\n",
              "      <td>1328</td>\n",
              "    </tr>\n",
              "    <tr>\n",
              "      <th>Private not-for-profit, 2-year</th>\n",
              "      <td>449</td>\n",
              "    </tr>\n",
              "    <tr>\n",
              "      <th>Private not-for-profit, 4-year or above</th>\n",
              "      <td>1042</td>\n",
              "    </tr>\n",
              "    <tr>\n",
              "      <th>Public, 2-year</th>\n",
              "      <td>2286</td>\n",
              "    </tr>\n",
              "    <tr>\n",
              "      <th>Public, 4-year or above</th>\n",
              "      <td>15162</td>\n",
              "    </tr>\n",
              "    <tr>\n",
              "      <th rowspan=\"7\" valign=\"top\">2015</th>\n",
              "      <th>Private for-profit, 2-year</th>\n",
              "      <td>3280</td>\n",
              "    </tr>\n",
              "    <tr>\n",
              "      <th>Private for-profit, 4-year or above</th>\n",
              "      <td>1306</td>\n",
              "    </tr>\n",
              "    <tr>\n",
              "      <th>Private for-profit, less-than 2-year</th>\n",
              "      <td>1629</td>\n",
              "    </tr>\n",
              "    <tr>\n",
              "      <th>Private not-for-profit, 2-year</th>\n",
              "      <td>425</td>\n",
              "    </tr>\n",
              "    <tr>\n",
              "      <th>Private not-for-profit, 4-year or above</th>\n",
              "      <td>1228</td>\n",
              "    </tr>\n",
              "    <tr>\n",
              "      <th>Public, 2-year</th>\n",
              "      <td>2355</td>\n",
              "    </tr>\n",
              "    <tr>\n",
              "      <th>Public, 4-year or above</th>\n",
              "      <td>16056</td>\n",
              "    </tr>\n",
              "    <tr>\n",
              "      <th rowspan=\"7\" valign=\"top\">2016</th>\n",
              "      <th>Private for-profit, 2-year</th>\n",
              "      <td>3286</td>\n",
              "    </tr>\n",
              "    <tr>\n",
              "      <th>Private for-profit, 4-year or above</th>\n",
              "      <td>748</td>\n",
              "    </tr>\n",
              "    <tr>\n",
              "      <th>Private for-profit, less-than 2-year</th>\n",
              "      <td>1552</td>\n",
              "    </tr>\n",
              "    <tr>\n",
              "      <th>Private not-for-profit, 2-year</th>\n",
              "      <td>322</td>\n",
              "    </tr>\n",
              "    <tr>\n",
              "      <th>Private not-for-profit, 4-year or above</th>\n",
              "      <td>1208</td>\n",
              "    </tr>\n",
              "    <tr>\n",
              "      <th>Public, 2-year</th>\n",
              "      <td>2431</td>\n",
              "    </tr>\n",
              "    <tr>\n",
              "      <th>Public, 4-year or above</th>\n",
              "      <td>16677</td>\n",
              "    </tr>\n",
              "  </tbody>\n",
              "</table>\n",
              "</div>"
            ],
            "text/plain": [
              "                                              Completions\n",
              "Year Sector                                              \n",
              "2012 Private for-profit, 2-year                      3072\n",
              "     Private for-profit, 4-year or above              632\n",
              "     Private for-profit, less-than 2-year            1327\n",
              "     Private not-for-profit, 2-year                   665\n",
              "     Private not-for-profit, 4-year or above         1059\n",
              "     Public, 2-year                                  1170\n",
              "     Public, 4-year or above                        12408\n",
              "2013 Private for-profit, 2-year                      3053\n",
              "     Private for-profit, 4-year or above              775\n",
              "     Private for-profit, less-than 2-year            1281\n",
              "     Private not-for-profit, 2-year                   471\n",
              "     Private not-for-profit, 4-year or above         1016\n",
              "     Public, 2-year                                  1633\n",
              "     Public, 4-year or above                        12817\n",
              "2014 Private for-profit, 2-year                      2957\n",
              "     Private for-profit, 4-year or above             1506\n",
              "     Private for-profit, less-than 2-year            1328\n",
              "     Private not-for-profit, 2-year                   449\n",
              "     Private not-for-profit, 4-year or above         1042\n",
              "     Public, 2-year                                  2286\n",
              "     Public, 4-year or above                        15162\n",
              "2015 Private for-profit, 2-year                      3280\n",
              "     Private for-profit, 4-year or above             1306\n",
              "     Private for-profit, less-than 2-year            1629\n",
              "     Private not-for-profit, 2-year                   425\n",
              "     Private not-for-profit, 4-year or above         1228\n",
              "     Public, 2-year                                  2355\n",
              "     Public, 4-year or above                        16056\n",
              "2016 Private for-profit, 2-year                      3286\n",
              "     Private for-profit, 4-year or above              748\n",
              "     Private for-profit, less-than 2-year            1552\n",
              "     Private not-for-profit, 2-year                   322\n",
              "     Private not-for-profit, 4-year or above         1208\n",
              "     Public, 2-year                                  2431\n",
              "     Public, 4-year or above                        16677"
            ]
          },
          "metadata": {
            "tags": []
          },
          "execution_count": 19
        }
      ]
    },
    {
      "cell_type": "markdown",
      "metadata": {
        "id": "JnvA5OdmgWox",
        "colab_type": "text"
      },
      "source": [
        "## Getting summary statistics for a group by"
      ]
    },
    {
      "cell_type": "code",
      "metadata": {
        "id": "vGsQtA70fu_7",
        "colab_type": "code",
        "colab": {
          "base_uri": "https://localhost:8080/",
          "height": 266
        },
        "outputId": "21a5acde-568a-4195-f126-c76184b2666f"
      },
      "source": [
        "df.groupby('Year').describe()"
      ],
      "execution_count": 20,
      "outputs": [
        {
          "output_type": "execute_result",
          "data": {
            "text/html": [
              "<div>\n",
              "<style scoped>\n",
              "    .dataframe tbody tr th:only-of-type {\n",
              "        vertical-align: middle;\n",
              "    }\n",
              "\n",
              "    .dataframe tbody tr th {\n",
              "        vertical-align: top;\n",
              "    }\n",
              "\n",
              "    .dataframe thead tr th {\n",
              "        text-align: left;\n",
              "    }\n",
              "\n",
              "    .dataframe thead tr:last-of-type th {\n",
              "        text-align: right;\n",
              "    }\n",
              "</style>\n",
              "<table border=\"1\" class=\"dataframe\">\n",
              "  <thead>\n",
              "    <tr>\n",
              "      <th></th>\n",
              "      <th colspan=\"8\" halign=\"left\">Completions</th>\n",
              "    </tr>\n",
              "    <tr>\n",
              "      <th></th>\n",
              "      <th>count</th>\n",
              "      <th>mean</th>\n",
              "      <th>std</th>\n",
              "      <th>min</th>\n",
              "      <th>25%</th>\n",
              "      <th>50%</th>\n",
              "      <th>75%</th>\n",
              "      <th>max</th>\n",
              "    </tr>\n",
              "    <tr>\n",
              "      <th>Year</th>\n",
              "      <th></th>\n",
              "      <th></th>\n",
              "      <th></th>\n",
              "      <th></th>\n",
              "      <th></th>\n",
              "      <th></th>\n",
              "      <th></th>\n",
              "      <th></th>\n",
              "    </tr>\n",
              "  </thead>\n",
              "  <tbody>\n",
              "    <tr>\n",
              "      <th>2012</th>\n",
              "      <td>38.0</td>\n",
              "      <td>535.078947</td>\n",
              "      <td>1036.433239</td>\n",
              "      <td>13.0</td>\n",
              "      <td>114.25</td>\n",
              "      <td>229.5</td>\n",
              "      <td>420.50</td>\n",
              "      <td>5388.0</td>\n",
              "    </tr>\n",
              "    <tr>\n",
              "      <th>2013</th>\n",
              "      <td>40.0</td>\n",
              "      <td>526.150000</td>\n",
              "      <td>1040.474782</td>\n",
              "      <td>0.0</td>\n",
              "      <td>98.50</td>\n",
              "      <td>189.0</td>\n",
              "      <td>413.00</td>\n",
              "      <td>5278.0</td>\n",
              "    </tr>\n",
              "    <tr>\n",
              "      <th>2014</th>\n",
              "      <td>42.0</td>\n",
              "      <td>588.809524</td>\n",
              "      <td>1150.355857</td>\n",
              "      <td>0.0</td>\n",
              "      <td>104.50</td>\n",
              "      <td>203.5</td>\n",
              "      <td>371.75</td>\n",
              "      <td>5093.0</td>\n",
              "    </tr>\n",
              "    <tr>\n",
              "      <th>2015</th>\n",
              "      <td>44.0</td>\n",
              "      <td>597.250000</td>\n",
              "      <td>1183.371791</td>\n",
              "      <td>0.0</td>\n",
              "      <td>87.75</td>\n",
              "      <td>191.0</td>\n",
              "      <td>405.75</td>\n",
              "      <td>5335.0</td>\n",
              "    </tr>\n",
              "    <tr>\n",
              "      <th>2016</th>\n",
              "      <td>43.0</td>\n",
              "      <td>609.860465</td>\n",
              "      <td>1235.952796</td>\n",
              "      <td>0.0</td>\n",
              "      <td>90.00</td>\n",
              "      <td>208.0</td>\n",
              "      <td>414.00</td>\n",
              "      <td>5367.0</td>\n",
              "    </tr>\n",
              "  </tbody>\n",
              "</table>\n",
              "</div>"
            ],
            "text/plain": [
              "     Completions                                                              \n",
              "           count        mean          std   min     25%    50%     75%     max\n",
              "Year                                                                          \n",
              "2012        38.0  535.078947  1036.433239  13.0  114.25  229.5  420.50  5388.0\n",
              "2013        40.0  526.150000  1040.474782   0.0   98.50  189.0  413.00  5278.0\n",
              "2014        42.0  588.809524  1150.355857   0.0  104.50  203.5  371.75  5093.0\n",
              "2015        44.0  597.250000  1183.371791   0.0   87.75  191.0  405.75  5335.0\n",
              "2016        43.0  609.860465  1235.952796   0.0   90.00  208.0  414.00  5367.0"
            ]
          },
          "metadata": {
            "tags": []
          },
          "execution_count": 20
        }
      ]
    },
    {
      "cell_type": "code",
      "metadata": {
        "id": "ThOG2gOFgJ4C",
        "colab_type": "code",
        "colab": {
          "base_uri": "https://localhost:8080/",
          "height": 297
        },
        "outputId": "aadf8022-5507-4455-c6f7-0bfed6be5fa3"
      },
      "source": [
        "df.groupby('Year').describe().transpose()"
      ],
      "execution_count": 22,
      "outputs": [
        {
          "output_type": "execute_result",
          "data": {
            "text/html": [
              "<div>\n",
              "<style scoped>\n",
              "    .dataframe tbody tr th:only-of-type {\n",
              "        vertical-align: middle;\n",
              "    }\n",
              "\n",
              "    .dataframe tbody tr th {\n",
              "        vertical-align: top;\n",
              "    }\n",
              "\n",
              "    .dataframe thead th {\n",
              "        text-align: right;\n",
              "    }\n",
              "</style>\n",
              "<table border=\"1\" class=\"dataframe\">\n",
              "  <thead>\n",
              "    <tr style=\"text-align: right;\">\n",
              "      <th></th>\n",
              "      <th>Year</th>\n",
              "      <th>2012</th>\n",
              "      <th>2013</th>\n",
              "      <th>2014</th>\n",
              "      <th>2015</th>\n",
              "      <th>2016</th>\n",
              "    </tr>\n",
              "  </thead>\n",
              "  <tbody>\n",
              "    <tr>\n",
              "      <th rowspan=\"8\" valign=\"top\">Completions</th>\n",
              "      <th>count</th>\n",
              "      <td>38.000000</td>\n",
              "      <td>40.000000</td>\n",
              "      <td>42.000000</td>\n",
              "      <td>44.000000</td>\n",
              "      <td>43.000000</td>\n",
              "    </tr>\n",
              "    <tr>\n",
              "      <th>mean</th>\n",
              "      <td>535.078947</td>\n",
              "      <td>526.150000</td>\n",
              "      <td>588.809524</td>\n",
              "      <td>597.250000</td>\n",
              "      <td>609.860465</td>\n",
              "    </tr>\n",
              "    <tr>\n",
              "      <th>std</th>\n",
              "      <td>1036.433239</td>\n",
              "      <td>1040.474782</td>\n",
              "      <td>1150.355857</td>\n",
              "      <td>1183.371791</td>\n",
              "      <td>1235.952796</td>\n",
              "    </tr>\n",
              "    <tr>\n",
              "      <th>min</th>\n",
              "      <td>13.000000</td>\n",
              "      <td>0.000000</td>\n",
              "      <td>0.000000</td>\n",
              "      <td>0.000000</td>\n",
              "      <td>0.000000</td>\n",
              "    </tr>\n",
              "    <tr>\n",
              "      <th>25%</th>\n",
              "      <td>114.250000</td>\n",
              "      <td>98.500000</td>\n",
              "      <td>104.500000</td>\n",
              "      <td>87.750000</td>\n",
              "      <td>90.000000</td>\n",
              "    </tr>\n",
              "    <tr>\n",
              "      <th>50%</th>\n",
              "      <td>229.500000</td>\n",
              "      <td>189.000000</td>\n",
              "      <td>203.500000</td>\n",
              "      <td>191.000000</td>\n",
              "      <td>208.000000</td>\n",
              "    </tr>\n",
              "    <tr>\n",
              "      <th>75%</th>\n",
              "      <td>420.500000</td>\n",
              "      <td>413.000000</td>\n",
              "      <td>371.750000</td>\n",
              "      <td>405.750000</td>\n",
              "      <td>414.000000</td>\n",
              "    </tr>\n",
              "    <tr>\n",
              "      <th>max</th>\n",
              "      <td>5388.000000</td>\n",
              "      <td>5278.000000</td>\n",
              "      <td>5093.000000</td>\n",
              "      <td>5335.000000</td>\n",
              "      <td>5367.000000</td>\n",
              "    </tr>\n",
              "  </tbody>\n",
              "</table>\n",
              "</div>"
            ],
            "text/plain": [
              "Year                      2012         2013  ...         2015         2016\n",
              "Completions count    38.000000    40.000000  ...    44.000000    43.000000\n",
              "            mean    535.078947   526.150000  ...   597.250000   609.860465\n",
              "            std    1036.433239  1040.474782  ...  1183.371791  1235.952796\n",
              "            min      13.000000     0.000000  ...     0.000000     0.000000\n",
              "            25%     114.250000    98.500000  ...    87.750000    90.000000\n",
              "            50%     229.500000   189.000000  ...   191.000000   208.000000\n",
              "            75%     420.500000   413.000000  ...   405.750000   414.000000\n",
              "            max    5388.000000  5278.000000  ...  5335.000000  5367.000000\n",
              "\n",
              "[8 rows x 5 columns]"
            ]
          },
          "metadata": {
            "tags": []
          },
          "execution_count": 22
        }
      ]
    },
    {
      "cell_type": "code",
      "metadata": {
        "id": "CDsn7vSngQLk",
        "colab_type": "code",
        "colab": {}
      },
      "source": [
        ""
      ],
      "execution_count": 0,
      "outputs": []
    }
  ]
}